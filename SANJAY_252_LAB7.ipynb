{
 "cells": [
  {
   "cell_type": "code",
   "execution_count": 14,
   "metadata": {},
   "outputs": [
    {
     "name": "stdout",
     "output_type": "stream",
     "text": [
      "[[63 63 18]\n",
      " [40 18  3]\n",
      " [12 15 56]]\n",
      "[[9 7 9]\n",
      " [8 9 1]\n",
      " [3 3 7]]\n",
      "[[7 9 2]\n",
      " [5 2 3]\n",
      " [4 5 8]]\n",
      "[[134 140 111]\n",
      " [105  95  51]\n",
      " [ 64  68  71]]\n"
     ]
    }
   ],
   "source": [
    "# 1 Matrices \n",
    "import numpy as np\n",
    "matrix1=np.random.randint(1, 10, size=(3, 3))\n",
    "matrix2=np.random.randint(1, 10, size=(3, 3))\n",
    "matrix0= matrix1*matrix2\n",
    "result_matrix = np.dot(matrix1,matrix2) #dot product\n",
    "result_matrix2 = np.multiply(matrix1,matrix2) #multiplication\n",
    "print(matrix0)\n",
    "print(matrix1)\n",
    "print(matrix2)\n",
    "print(result_matrix)"
   ]
  },
  {
   "cell_type": "code",
   "execution_count": 19,
   "metadata": {},
   "outputs": [
    {
     "name": "stdout",
     "output_type": "stream",
     "text": [
      "[ 1  2  3  4  5  6  7  9 11]\n",
      "[3 4 5 6]\n",
      "[1 2 7]\n",
      "[ 1  2  7  9 11]\n"
     ]
    }
   ],
   "source": [
    "# 2. Set Operation\n",
    "set1 = np.array([1,2,3,4,5,6,7])\n",
    "set2 = np.array([3,4,5,6,9,11])\n",
    "\n",
    "union_result = np.union1d(set1,set2) #Union\n",
    "intersection_result = np.intersect1d(set1,set2) #Intersection\n",
    "set_difference_result = np.setdiff1d(set1,set2) #set Difference\n",
    "xor_result = np.setxor1d(set1,set2) #Xor operation\n",
    "print(union_result)\n",
    "print(intersection_result)\n",
    "print(set_difference_result)\n",
    "print(xor_result)"
   ]
  },
  {
   "cell_type": "code",
   "execution_count": 21,
   "metadata": {},
   "outputs": [
    {
     "name": "stdout",
     "output_type": "stream",
     "text": [
      "[0.40893745 0.1982575  0.4685946  0.97630113 0.78120091 0.88067753\n",
      " 0.27681765 0.95685285 0.14349857 0.39257053]\n",
      "[0.40893745 0.60719495 1.07578956 2.05209068 2.8332916  3.71396913\n",
      " 3.99078678 4.94763963 5.0911382  5.48370873]\n",
      "[4.08937449e-01 8.10749179e-02 3.79912689e-02 3.70909186e-02\n",
      " 2.89754596e-02 2.55180363e-02 7.06384277e-03 6.75905811e-03\n",
      " 9.69915150e-04 3.80760103e-04]\n",
      "[1 2 3 4 5 6]\n"
     ]
    }
   ],
   "source": [
    "#3.\n",
    "import numpy as np\n",
    "\n",
    "# Create a 1D array with random values\n",
    "random_array = np.random.rand(10)  # Create a 1D array with 10 random values\n",
    "\n",
    "# Calculate the cumulative sum\n",
    "cumulative_sum = np.cumsum(random_array)\n",
    "\n",
    "\n",
    "print(random_array) \n",
    "\n",
    "print(cumulative_sum) #Cumulative sum\n",
    "\n",
    "# Calculate\n",
    "cumulative_product = np.cumprod(random_array)\n",
    "print(cumulative_product) #Cumulative Product\n",
    "\n",
    "arr = np.array([10, 15, 20, 25, 30, 35, 40, 45, 50])\n",
    "\n",
    "\n",
    "diff_n3 = np.diff(arr, n=3) #discrete difference\n",
    "\n",
    "\n",
    "arr = np.array([1, 2, 2, 3, 4, 4, 5, 5, 6]) #array with and duplicate elements\n",
    "\n",
    "\n",
    "unique_elements = np.unique(arr) #unique elements\n",
    "\n",
    "print(unique_elements)\n"
   ]
  },
  {
   "cell_type": "code",
   "execution_count": 22,
   "metadata": {},
   "outputs": [
    {
     "name": "stdout",
     "output_type": "stream",
     "text": [
      "Array 1: [1 2 3 4 5]\n",
      "Array 2: [ 6  7  8  9 10]\n",
      "Addition using zip(): [ 7  9 11 13 15]\n",
      "Addition using np.add(): [ 7  9 11 13 15]\n",
      "Addition using user-defined function: [7 9 11 13 15]\n"
     ]
    }
   ],
   "source": [
    "#4.\n",
    "import numpy as np\n",
    "\n",
    "\n",
    "array1 = np.array([1, 2, 3, 4, 5])\n",
    "array2 = np.array([6, 7, 8, 9, 10])\n",
    "\n",
    "\n",
    "result_zip = np.array([a + b for a, b in zip(array1, array2)]) # Addition using zip()\n",
    "\n",
    "\n",
    "result_np_add = np.add(array1, array2)# Addition using np.add()\n",
    "\n",
    "\n",
    "def custom_add(x, y): # Define a user-defined addition function\n",
    "    return x + y\n",
    "\n",
    "ufunc_custom_add = np.frompyfunc(custom_add, 2, 1) #user defined function\n",
    "\n",
    "# Addition using the user-defined function\n",
    "result_custom_add = ufunc_custom_add(array1, array2)\n",
    "\n",
    "# Print the results\n",
    "print(\"Array 1:\", array1)\n",
    "print(\"Array 2:\", array2)\n",
    "print(\"Addition using zip():\", result_zip)\n",
    "print(\"Addition using np.add():\", result_np_add)\n",
    "print(\"Addition using user-defined function:\", result_custom_add)\n"
   ]
  },
  {
   "cell_type": "code",
   "execution_count": 23,
   "metadata": {},
   "outputs": [
    {
     "name": "stdout",
     "output_type": "stream",
     "text": [
      "Array of Elements: [12, 18, 24, 36, 48]\n",
      "LCM (Least Common Multiple): 144\n",
      "GCD (Greatest Common Divisor): 6\n"
     ]
    }
   ],
   "source": [
    "#5.\n",
    "from functools import reduce\n",
    "from math import gcd, lcm\n",
    "\n",
    "# Create an array of elements\n",
    "elements = [12, 18, 24, 36, 48]\n",
    "\n",
    "\n",
    "lcm_result = reduce(lambda x, y: lcm(x, y), elements) #LCM using reduce()\n",
    "\n",
    "\n",
    "gcd_result = reduce(lambda x, y: gcd(x, y), elements) # Calculate the GCD (Greatest Common Divisor) using reduce()\n",
    "print(\"LCM (Least Common Multiple):\", lcm_result)\n",
    "print(\"GCD (Greatest Common Divisor):\", gcd_result)\n"
   ]
  }
 ],
 "metadata": {
  "kernelspec": {
   "display_name": "Python 3",
   "language": "python",
   "name": "python3"
  },
  "language_info": {
   "codemirror_mode": {
    "name": "ipython",
    "version": 3
   },
   "file_extension": ".py",
   "mimetype": "text/x-python",
   "name": "python",
   "nbconvert_exporter": "python",
   "pygments_lexer": "ipython3",
   "version": "3.11.5"
  },
  "orig_nbformat": 4
 },
 "nbformat": 4,
 "nbformat_minor": 2
}
